{
  "nbformat": 4,
  "nbformat_minor": 0,
  "metadata": {
    "colab": {
      "name": "Heart_disease_XGBoost.ipynb",
      "provenance": [],
      "collapsed_sections": [],
      "authorship_tag": "ABX9TyOUwPjW2Xw87baiFfJyeVEr",
      "include_colab_link": true
    },
    "kernelspec": {
      "name": "python3",
      "display_name": "Python 3"
    },
    "language_info": {
      "name": "python"
    }
  },
  "cells": [
    {
      "cell_type": "markdown",
      "metadata": {
        "id": "view-in-github",
        "colab_type": "text"
      },
      "source": [
        "<a href=\"https://colab.research.google.com/github/jdposada/r_course/blob/main/src/shiny_tutorial2/Heart_disease_XGBoost.ipynb\" target=\"_parent\"><img src=\"https://colab.research.google.com/assets/colab-badge.svg\" alt=\"Open In Colab\"/></a>"
      ]
    },
    {
      "cell_type": "markdown",
      "source": [
        "# Clasificando a una persona con enfermedad cardiaca usando XGBoost"
      ],
      "metadata": {
        "id": "KDnYU4vUyFCd"
      }
    },
    {
      "cell_type": "markdown",
      "source": [
        "https://archive.ics.uci.edu/ml/datasets/heart+disease"
      ],
      "metadata": {
        "id": "9ZlhA1F7x7SI"
      }
    },
    {
      "cell_type": "markdown",
      "source": [
        "Importamos todas las librerias"
      ],
      "metadata": {
        "id": "GqWYTEhsylZU"
      }
    },
    {
      "cell_type": "code",
      "source": [
        "import xgboost as xgb\n",
        "from sklearn.datasets import make_classification\n",
        "from sklearn.model_selection import train_test_split\n",
        "import pandas as pd"
      ],
      "metadata": {
        "id": "BfSf7TnxykuG"
      },
      "execution_count": null,
      "outputs": []
    },
    {
      "cell_type": "markdown",
      "source": [
        "Leemos los datos y seleccionamos las entradas y las salidas"
      ],
      "metadata": {
        "id": "DwpHZu_MyykV"
      }
    },
    {
      "cell_type": "code",
      "execution_count": 1,
      "metadata": {
        "id": "jcTe3VOsxpqa"
      },
      "outputs": [],
      "source": [
        "# access heart disease dataset\n",
        "url = 'https://media.githubusercontent.com/media/PacktPublishing/Hands-On-Gradient-Boosting-with-XGBoost-and-Scikit-learn/master/Chapter02/heart_disease.csv'\n",
        "df = pd.read_csv(url)\n",
        "X = df.iloc[:, :-1]\n",
        "y = df.iloc[:, -1]"
      ]
    },
    {
      "cell_type": "markdown",
      "source": [
        "Inspeccionamos los datos"
      ],
      "metadata": {
        "id": "4NQ8TlhYy47Y"
      }
    },
    {
      "cell_type": "code",
      "source": [
        "df.head()"
      ],
      "metadata": {
        "colab": {
          "base_uri": "https://localhost:8080/",
          "height": 206
        },
        "id": "R6tEWmaQxwBy",
        "outputId": "302e40f3-8461-48f9-b7e9-c6f97511ace3"
      },
      "execution_count": 2,
      "outputs": [
        {
          "output_type": "execute_result",
          "data": {
            "text/plain": [
              "   age  sex  cp  trestbps  chol  fbs  restecg  thalach  exang  oldpeak  slope  \\\n",
              "0   63    1   3       145   233    1        0      150      0      2.3      0   \n",
              "1   37    1   2       130   250    0        1      187      0      3.5      0   \n",
              "2   41    0   1       130   204    0        0      172      0      1.4      2   \n",
              "3   56    1   1       120   236    0        1      178      0      0.8      2   \n",
              "4   57    0   0       120   354    0        1      163      1      0.6      2   \n",
              "\n",
              "   ca  thal  target  \n",
              "0   0     1       1  \n",
              "1   0     2       1  \n",
              "2   0     2       1  \n",
              "3   0     2       1  \n",
              "4   0     2       1  "
            ],
            "text/html": [
              "\n",
              "  <div id=\"df-5d85e9f3-769a-451a-afe5-5abcef0eb23a\">\n",
              "    <div class=\"colab-df-container\">\n",
              "      <div>\n",
              "<style scoped>\n",
              "    .dataframe tbody tr th:only-of-type {\n",
              "        vertical-align: middle;\n",
              "    }\n",
              "\n",
              "    .dataframe tbody tr th {\n",
              "        vertical-align: top;\n",
              "    }\n",
              "\n",
              "    .dataframe thead th {\n",
              "        text-align: right;\n",
              "    }\n",
              "</style>\n",
              "<table border=\"1\" class=\"dataframe\">\n",
              "  <thead>\n",
              "    <tr style=\"text-align: right;\">\n",
              "      <th></th>\n",
              "      <th>age</th>\n",
              "      <th>sex</th>\n",
              "      <th>cp</th>\n",
              "      <th>trestbps</th>\n",
              "      <th>chol</th>\n",
              "      <th>fbs</th>\n",
              "      <th>restecg</th>\n",
              "      <th>thalach</th>\n",
              "      <th>exang</th>\n",
              "      <th>oldpeak</th>\n",
              "      <th>slope</th>\n",
              "      <th>ca</th>\n",
              "      <th>thal</th>\n",
              "      <th>target</th>\n",
              "    </tr>\n",
              "  </thead>\n",
              "  <tbody>\n",
              "    <tr>\n",
              "      <th>0</th>\n",
              "      <td>63</td>\n",
              "      <td>1</td>\n",
              "      <td>3</td>\n",
              "      <td>145</td>\n",
              "      <td>233</td>\n",
              "      <td>1</td>\n",
              "      <td>0</td>\n",
              "      <td>150</td>\n",
              "      <td>0</td>\n",
              "      <td>2.3</td>\n",
              "      <td>0</td>\n",
              "      <td>0</td>\n",
              "      <td>1</td>\n",
              "      <td>1</td>\n",
              "    </tr>\n",
              "    <tr>\n",
              "      <th>1</th>\n",
              "      <td>37</td>\n",
              "      <td>1</td>\n",
              "      <td>2</td>\n",
              "      <td>130</td>\n",
              "      <td>250</td>\n",
              "      <td>0</td>\n",
              "      <td>1</td>\n",
              "      <td>187</td>\n",
              "      <td>0</td>\n",
              "      <td>3.5</td>\n",
              "      <td>0</td>\n",
              "      <td>0</td>\n",
              "      <td>2</td>\n",
              "      <td>1</td>\n",
              "    </tr>\n",
              "    <tr>\n",
              "      <th>2</th>\n",
              "      <td>41</td>\n",
              "      <td>0</td>\n",
              "      <td>1</td>\n",
              "      <td>130</td>\n",
              "      <td>204</td>\n",
              "      <td>0</td>\n",
              "      <td>0</td>\n",
              "      <td>172</td>\n",
              "      <td>0</td>\n",
              "      <td>1.4</td>\n",
              "      <td>2</td>\n",
              "      <td>0</td>\n",
              "      <td>2</td>\n",
              "      <td>1</td>\n",
              "    </tr>\n",
              "    <tr>\n",
              "      <th>3</th>\n",
              "      <td>56</td>\n",
              "      <td>1</td>\n",
              "      <td>1</td>\n",
              "      <td>120</td>\n",
              "      <td>236</td>\n",
              "      <td>0</td>\n",
              "      <td>1</td>\n",
              "      <td>178</td>\n",
              "      <td>0</td>\n",
              "      <td>0.8</td>\n",
              "      <td>2</td>\n",
              "      <td>0</td>\n",
              "      <td>2</td>\n",
              "      <td>1</td>\n",
              "    </tr>\n",
              "    <tr>\n",
              "      <th>4</th>\n",
              "      <td>57</td>\n",
              "      <td>0</td>\n",
              "      <td>0</td>\n",
              "      <td>120</td>\n",
              "      <td>354</td>\n",
              "      <td>0</td>\n",
              "      <td>1</td>\n",
              "      <td>163</td>\n",
              "      <td>1</td>\n",
              "      <td>0.6</td>\n",
              "      <td>2</td>\n",
              "      <td>0</td>\n",
              "      <td>2</td>\n",
              "      <td>1</td>\n",
              "    </tr>\n",
              "  </tbody>\n",
              "</table>\n",
              "</div>\n",
              "      <button class=\"colab-df-convert\" onclick=\"convertToInteractive('df-5d85e9f3-769a-451a-afe5-5abcef0eb23a')\"\n",
              "              title=\"Convert this dataframe to an interactive table.\"\n",
              "              style=\"display:none;\">\n",
              "        \n",
              "  <svg xmlns=\"http://www.w3.org/2000/svg\" height=\"24px\"viewBox=\"0 0 24 24\"\n",
              "       width=\"24px\">\n",
              "    <path d=\"M0 0h24v24H0V0z\" fill=\"none\"/>\n",
              "    <path d=\"M18.56 5.44l.94 2.06.94-2.06 2.06-.94-2.06-.94-.94-2.06-.94 2.06-2.06.94zm-11 1L8.5 8.5l.94-2.06 2.06-.94-2.06-.94L8.5 2.5l-.94 2.06-2.06.94zm10 10l.94 2.06.94-2.06 2.06-.94-2.06-.94-.94-2.06-.94 2.06-2.06.94z\"/><path d=\"M17.41 7.96l-1.37-1.37c-.4-.4-.92-.59-1.43-.59-.52 0-1.04.2-1.43.59L10.3 9.45l-7.72 7.72c-.78.78-.78 2.05 0 2.83L4 21.41c.39.39.9.59 1.41.59.51 0 1.02-.2 1.41-.59l7.78-7.78 2.81-2.81c.8-.78.8-2.07 0-2.86zM5.41 20L4 18.59l7.72-7.72 1.47 1.35L5.41 20z\"/>\n",
              "  </svg>\n",
              "      </button>\n",
              "      \n",
              "  <style>\n",
              "    .colab-df-container {\n",
              "      display:flex;\n",
              "      flex-wrap:wrap;\n",
              "      gap: 12px;\n",
              "    }\n",
              "\n",
              "    .colab-df-convert {\n",
              "      background-color: #E8F0FE;\n",
              "      border: none;\n",
              "      border-radius: 50%;\n",
              "      cursor: pointer;\n",
              "      display: none;\n",
              "      fill: #1967D2;\n",
              "      height: 32px;\n",
              "      padding: 0 0 0 0;\n",
              "      width: 32px;\n",
              "    }\n",
              "\n",
              "    .colab-df-convert:hover {\n",
              "      background-color: #E2EBFA;\n",
              "      box-shadow: 0px 1px 2px rgba(60, 64, 67, 0.3), 0px 1px 3px 1px rgba(60, 64, 67, 0.15);\n",
              "      fill: #174EA6;\n",
              "    }\n",
              "\n",
              "    [theme=dark] .colab-df-convert {\n",
              "      background-color: #3B4455;\n",
              "      fill: #D2E3FC;\n",
              "    }\n",
              "\n",
              "    [theme=dark] .colab-df-convert:hover {\n",
              "      background-color: #434B5C;\n",
              "      box-shadow: 0px 1px 3px 1px rgba(0, 0, 0, 0.15);\n",
              "      filter: drop-shadow(0px 1px 2px rgba(0, 0, 0, 0.3));\n",
              "      fill: #FFFFFF;\n",
              "    }\n",
              "  </style>\n",
              "\n",
              "      <script>\n",
              "        const buttonEl =\n",
              "          document.querySelector('#df-5d85e9f3-769a-451a-afe5-5abcef0eb23a button.colab-df-convert');\n",
              "        buttonEl.style.display =\n",
              "          google.colab.kernel.accessAllowed ? 'block' : 'none';\n",
              "\n",
              "        async function convertToInteractive(key) {\n",
              "          const element = document.querySelector('#df-5d85e9f3-769a-451a-afe5-5abcef0eb23a');\n",
              "          const dataTable =\n",
              "            await google.colab.kernel.invokeFunction('convertToInteractive',\n",
              "                                                     [key], {});\n",
              "          if (!dataTable) return;\n",
              "\n",
              "          const docLinkHtml = 'Like what you see? Visit the ' +\n",
              "            '<a target=\"_blank\" href=https://colab.research.google.com/notebooks/data_table.ipynb>data table notebook</a>'\n",
              "            + ' to learn more about interactive tables.';\n",
              "          element.innerHTML = '';\n",
              "          dataTable['output_type'] = 'display_data';\n",
              "          await google.colab.output.renderOutput(dataTable, element);\n",
              "          const docLink = document.createElement('div');\n",
              "          docLink.innerHTML = docLinkHtml;\n",
              "          element.appendChild(docLink);\n",
              "        }\n",
              "      </script>\n",
              "    </div>\n",
              "  </div>\n",
              "  "
            ]
          },
          "metadata": {},
          "execution_count": 2
        }
      ]
    },
    {
      "cell_type": "markdown",
      "source": [
        "Dividimos los datos en entrenamiento y prueba"
      ],
      "metadata": {
        "id": "xVF0FKOhy_Lz"
      }
    },
    {
      "cell_type": "code",
      "source": [
        "\n",
        "X_train, X_test, y_train, y_test = train_test_split(X, y, test_size=0.25)"
      ],
      "metadata": {
        "id": "qR4YxjXWxs3-"
      },
      "execution_count": 3,
      "outputs": []
    },
    {
      "cell_type": "markdown",
      "source": [
        "Definimos el modelo a entrenar usando la interfaz de scikit learn"
      ],
      "metadata": {
        "id": "qo3nPpObzEh1"
      }
    },
    {
      "cell_type": "code",
      "source": [
        "model = xgb.XGBRegressor(n_estimators=100, \n",
        "                         max_depth=3, \n",
        "                         learning_rate=0.01)"
      ],
      "metadata": {
        "id": "DbE3DgaRydCW"
      },
      "execution_count": 4,
      "outputs": []
    },
    {
      "cell_type": "markdown",
      "source": [
        "Entrenamos el modelo"
      ],
      "metadata": {
        "id": "eeF8W6FvzLju"
      }
    },
    {
      "cell_type": "code",
      "source": [
        "model.fit(X_train, y_train, \n",
        "          eval_set=[(X_train, y_train), (X_test, y_test)], \n",
        "          early_stopping_rounds=20)"
      ],
      "metadata": {
        "colab": {
          "base_uri": "https://localhost:8080/"
        },
        "id": "bkezoXEzzNfL",
        "outputId": "5ea565b8-2227-4b7f-9d76-b3f2c06629a0"
      },
      "execution_count": 5,
      "outputs": [
        {
          "output_type": "stream",
          "name": "stdout",
          "text": [
            "[14:50:32] WARNING: /workspace/src/objective/regression_obj.cu:152: reg:linear is now deprecated in favor of reg:squarederror.\n",
            "[0]\tvalidation_0-rmse:0.497239\tvalidation_1-rmse:0.498037\n",
            "Multiple eval metrics have been passed: 'validation_1-rmse' will be used for early stopping.\n",
            "\n",
            "Will train until validation_1-rmse hasn't improved in 20 rounds.\n",
            "[1]\tvalidation_0-rmse:0.494516\tvalidation_1-rmse:0.496113\n",
            "[2]\tvalidation_0-rmse:0.491831\tvalidation_1-rmse:0.494226\n",
            "[3]\tvalidation_0-rmse:0.489184\tvalidation_1-rmse:0.492377\n",
            "[4]\tvalidation_0-rmse:0.486574\tvalidation_1-rmse:0.490565\n",
            "[5]\tvalidation_0-rmse:0.484001\tvalidation_1-rmse:0.488789\n",
            "[6]\tvalidation_0-rmse:0.481464\tvalidation_1-rmse:0.487049\n",
            "[7]\tvalidation_0-rmse:0.478964\tvalidation_1-rmse:0.485344\n",
            "[8]\tvalidation_0-rmse:0.476498\tvalidation_1-rmse:0.483674\n",
            "[9]\tvalidation_0-rmse:0.474068\tvalidation_1-rmse:0.482039\n",
            "[10]\tvalidation_0-rmse:0.471673\tvalidation_1-rmse:0.480437\n",
            "[11]\tvalidation_0-rmse:0.469311\tvalidation_1-rmse:0.478869\n",
            "[12]\tvalidation_0-rmse:0.466984\tvalidation_1-rmse:0.477333\n",
            "[13]\tvalidation_0-rmse:0.464648\tvalidation_1-rmse:0.476637\n",
            "[14]\tvalidation_0-rmse:0.462381\tvalidation_1-rmse:0.475157\n",
            "[15]\tvalidation_0-rmse:0.460199\tvalidation_1-rmse:0.474265\n",
            "[16]\tvalidation_0-rmse:0.45799\tvalidation_1-rmse:0.472839\n",
            "[17]\tvalidation_0-rmse:0.455765\tvalidation_1-rmse:0.472231\n",
            "[18]\tvalidation_0-rmse:0.453613\tvalidation_1-rmse:0.470857\n",
            "[19]\tvalidation_0-rmse:0.451539\tvalidation_1-rmse:0.470056\n",
            "[20]\tvalidation_0-rmse:0.449443\tvalidation_1-rmse:0.468733\n",
            "[21]\tvalidation_0-rmse:0.447325\tvalidation_1-rmse:0.468371\n",
            "[22]\tvalidation_0-rmse:0.44538\tvalidation_1-rmse:0.467358\n",
            "[23]\tvalidation_0-rmse:0.44336\tvalidation_1-rmse:0.466264\n",
            "[24]\tvalidation_0-rmse:0.441412\tvalidation_1-rmse:0.465564\n",
            "[25]\tvalidation_0-rmse:0.439444\tvalidation_1-rmse:0.464613\n",
            "[26]\tvalidation_0-rmse:0.437451\tvalidation_1-rmse:0.464179\n",
            "[27]\tvalidation_0-rmse:0.435533\tvalidation_1-rmse:0.46327\n",
            "[28]\tvalidation_0-rmse:0.43373\tvalidation_1-rmse:0.462374\n",
            "[29]\tvalidation_0-rmse:0.431861\tvalidation_1-rmse:0.461506\n",
            "[30]\tvalidation_0-rmse:0.429964\tvalidation_1-rmse:0.461138\n",
            "[31]\tvalidation_0-rmse:0.428144\tvalidation_1-rmse:0.460194\n",
            "[32]\tvalidation_0-rmse:0.426432\tvalidation_1-rmse:0.459373\n",
            "[33]\tvalidation_0-rmse:0.424659\tvalidation_1-rmse:0.458285\n",
            "[34]\tvalidation_0-rmse:0.422903\tvalidation_1-rmse:0.457659\n",
            "[35]\tvalidation_0-rmse:0.421177\tvalidation_1-rmse:0.456636\n",
            "[36]\tvalidation_0-rmse:0.419549\tvalidation_1-rmse:0.455855\n",
            "[37]\tvalidation_0-rmse:0.417867\tvalidation_1-rmse:0.455027\n",
            "[38]\tvalidation_0-rmse:0.416283\tvalidation_1-rmse:0.454308\n",
            "[39]\tvalidation_0-rmse:0.414645\tvalidation_1-rmse:0.453331\n",
            "[40]\tvalidation_0-rmse:0.41301\tvalidation_1-rmse:0.452795\n",
            "[41]\tvalidation_0-rmse:0.411415\tvalidation_1-rmse:0.451854\n",
            "[42]\tvalidation_0-rmse:0.40991\tvalidation_1-rmse:0.451194\n",
            "[43]\tvalidation_0-rmse:0.408357\tvalidation_1-rmse:0.450471\n",
            "[44]\tvalidation_0-rmse:0.406893\tvalidation_1-rmse:0.449813\n",
            "[45]\tvalidation_0-rmse:0.405381\tvalidation_1-rmse:0.448967\n",
            "[46]\tvalidation_0-rmse:0.403892\tvalidation_1-rmse:0.448295\n",
            "[47]\tvalidation_0-rmse:0.402484\tvalidation_1-rmse:0.447854\n",
            "[48]\tvalidation_0-rmse:0.400993\tvalidation_1-rmse:0.447265\n",
            "[49]\tvalidation_0-rmse:0.399561\tvalidation_1-rmse:0.446636\n",
            "[50]\tvalidation_0-rmse:0.398206\tvalidation_1-rmse:0.446056\n",
            "[51]\tvalidation_0-rmse:0.396812\tvalidation_1-rmse:0.445302\n",
            "[52]\tvalidation_0-rmse:0.395439\tvalidation_1-rmse:0.444719\n",
            "[53]\tvalidation_0-rmse:0.394006\tvalidation_1-rmse:0.443966\n",
            "[54]\tvalidation_0-rmse:0.392614\tvalidation_1-rmse:0.4436\n",
            "[55]\tvalidation_0-rmse:0.391162\tvalidation_1-rmse:0.442665\n",
            "[56]\tvalidation_0-rmse:0.389906\tvalidation_1-rmse:0.442504\n",
            "[57]\tvalidation_0-rmse:0.38849\tvalidation_1-rmse:0.441598\n",
            "[58]\tvalidation_0-rmse:0.38722\tvalidation_1-rmse:0.441092\n",
            "[59]\tvalidation_0-rmse:0.385883\tvalidation_1-rmse:0.440415\n",
            "[60]\tvalidation_0-rmse:0.384581\tvalidation_1-rmse:0.440106\n",
            "[61]\tvalidation_0-rmse:0.383233\tvalidation_1-rmse:0.439258\n",
            "[62]\tvalidation_0-rmse:0.382066\tvalidation_1-rmse:0.439227\n",
            "[63]\tvalidation_0-rmse:0.380874\tvalidation_1-rmse:0.438679\n",
            "[64]\tvalidation_0-rmse:0.379464\tvalidation_1-rmse:0.438431\n",
            "[65]\tvalidation_0-rmse:0.378234\tvalidation_1-rmse:0.438166\n",
            "[66]\tvalidation_0-rmse:0.376962\tvalidation_1-rmse:0.437379\n",
            "[67]\tvalidation_0-rmse:0.37586\tvalidation_1-rmse:0.43732\n",
            "[68]\tvalidation_0-rmse:0.374618\tvalidation_1-rmse:0.436607\n",
            "[69]\tvalidation_0-rmse:0.373401\tvalidation_1-rmse:0.436758\n",
            "[70]\tvalidation_0-rmse:0.372119\tvalidation_1-rmse:0.436178\n",
            "[71]\tvalidation_0-rmse:0.370809\tvalidation_1-rmse:0.435145\n",
            "[72]\tvalidation_0-rmse:0.369519\tvalidation_1-rmse:0.434129\n",
            "[73]\tvalidation_0-rmse:0.368355\tvalidation_1-rmse:0.43431\n",
            "[74]\tvalidation_0-rmse:0.367097\tvalidation_1-rmse:0.433321\n",
            "[75]\tvalidation_0-rmse:0.365859\tvalidation_1-rmse:0.432349\n",
            "[76]\tvalidation_0-rmse:0.364641\tvalidation_1-rmse:0.431393\n",
            "[77]\tvalidation_0-rmse:0.363556\tvalidation_1-rmse:0.431207\n",
            "[78]\tvalidation_0-rmse:0.362367\tvalidation_1-rmse:0.430275\n",
            "[79]\tvalidation_0-rmse:0.361196\tvalidation_1-rmse:0.429362\n",
            "[80]\tvalidation_0-rmse:0.360116\tvalidation_1-rmse:0.429574\n",
            "[81]\tvalidation_0-rmse:0.358975\tvalidation_1-rmse:0.428686\n",
            "[82]\tvalidation_0-rmse:0.357851\tvalidation_1-rmse:0.427809\n",
            "[83]\tvalidation_0-rmse:0.356831\tvalidation_1-rmse:0.427656\n",
            "[84]\tvalidation_0-rmse:0.355735\tvalidation_1-rmse:0.426805\n",
            "[85]\tvalidation_0-rmse:0.354656\tvalidation_1-rmse:0.425965\n",
            "[86]\tvalidation_0-rmse:0.353665\tvalidation_1-rmse:0.425795\n",
            "[87]\tvalidation_0-rmse:0.35261\tvalidation_1-rmse:0.424986\n",
            "[88]\tvalidation_0-rmse:0.351571\tvalidation_1-rmse:0.424184\n",
            "[89]\tvalidation_0-rmse:0.350584\tvalidation_1-rmse:0.424393\n",
            "[90]\tvalidation_0-rmse:0.34957\tvalidation_1-rmse:0.423617\n",
            "[91]\tvalidation_0-rmse:0.348572\tvalidation_1-rmse:0.422848\n",
            "[92]\tvalidation_0-rmse:0.347634\tvalidation_1-rmse:0.422706\n",
            "[93]\tvalidation_0-rmse:0.346658\tvalidation_1-rmse:0.421962\n",
            "[94]\tvalidation_0-rmse:0.345698\tvalidation_1-rmse:0.421231\n",
            "[95]\tvalidation_0-rmse:0.344766\tvalidation_1-rmse:0.421457\n",
            "[96]\tvalidation_0-rmse:0.343829\tvalidation_1-rmse:0.420737\n",
            "[97]\tvalidation_0-rmse:0.342875\tvalidation_1-rmse:0.419869\n",
            "[98]\tvalidation_0-rmse:0.341971\tvalidation_1-rmse:0.420104\n",
            "[99]\tvalidation_0-rmse:0.341038\tvalidation_1-rmse:0.419124\n"
          ]
        },
        {
          "output_type": "execute_result",
          "data": {
            "text/plain": [
              "XGBRegressor(learning_rate=0.01)"
            ]
          },
          "metadata": {},
          "execution_count": 5
        }
      ]
    },
    {
      "cell_type": "markdown",
      "source": [
        "Usamos el modelo para hacer predicciones en datos que no hemos visto"
      ],
      "metadata": {
        "id": "R9t6M9QZzTqO"
      }
    },
    {
      "cell_type": "code",
      "source": [
        "model.predict(X_test)"
      ],
      "metadata": {
        "colab": {
          "base_uri": "https://localhost:8080/"
        },
        "id": "PUFnT55ozWLd",
        "outputId": "005755b5-8dd0-4b55-aab3-0b9df7a5df89"
      },
      "execution_count": 6,
      "outputs": [
        {
          "output_type": "execute_result",
          "data": {
            "text/plain": [
              "array([0.30482632, 0.68581825, 0.3492648 , 0.21153465, 0.18753538,\n",
              "       0.2381658 , 0.78156525, 0.25456095, 0.4856146 , 0.36348802,\n",
              "       0.4578833 , 0.67292655, 0.19582775, 0.21153465, 0.72597134,\n",
              "       0.34191293, 0.54114753, 0.24365622, 0.78156525, 0.28100663,\n",
              "       0.37228212, 0.6716695 , 0.19582775, 0.19582775, 0.3336206 ,\n",
              "       0.76190776, 0.59330755, 0.670482  , 0.35949326, 0.21153465,\n",
              "       0.6785809 , 0.76190776, 0.32912403, 0.36398977, 0.7633357 ,\n",
              "       0.26285326, 0.4578833 , 0.41854298, 0.7633357 , 0.72597134,\n",
              "       0.19582775, 0.7633357 , 0.3470223 , 0.59571755, 0.33797783,\n",
              "       0.22046176, 0.33331144, 0.37625784, 0.55486965, 0.29646245,\n",
              "       0.7430132 , 0.6882702 , 0.5190207 , 0.7801373 , 0.37371004,\n",
              "       0.6804124 , 0.19582775, 0.7430132 , 0.27289534, 0.7633357 ,\n",
              "       0.2967136 , 0.7801373 , 0.7654386 , 0.5518449 , 0.76190776,\n",
              "       0.58841735, 0.2381658 , 0.2508309 , 0.37033355, 0.4144222 ,\n",
              "       0.3786259 , 0.78156525, 0.6313452 , 0.7801373 , 0.21328712,\n",
              "       0.21153465], dtype=float32)"
            ]
          },
          "metadata": {},
          "execution_count": 6
        }
      ]
    },
    {
      "cell_type": "markdown",
      "source": [
        "Guardamos el modelo en formato JSON"
      ],
      "metadata": {
        "id": "7TetzIQ_zYQ4"
      }
    },
    {
      "cell_type": "code",
      "source": [
        "model.save_model(\"model_sklearn.json\")"
      ],
      "metadata": {
        "id": "kyLlpZZczZQG"
      },
      "execution_count": 7,
      "outputs": []
    },
    {
      "cell_type": "code",
      "source": [
        "model.save_model(\"model_sklearn.txt\")"
      ],
      "metadata": {
        "id": "w8OnoOnx4B9t"
      },
      "execution_count": 10,
      "outputs": []
    },
    {
      "cell_type": "markdown",
      "source": [
        "Cargamos el modelo para verificar que es el mismo"
      ],
      "metadata": {
        "id": "WXy5LBdBzfeX"
      }
    },
    {
      "cell_type": "code",
      "source": [
        "model2 = xgb.XGBRegressor()\n",
        "model2.load_model(\"model_sklearn.json\")"
      ],
      "metadata": {
        "colab": {
          "base_uri": "https://localhost:8080/"
        },
        "id": "xMnj6MLVziIp",
        "outputId": "d0c17c21-36a7-4286-f05e-9589b1816048"
      },
      "execution_count": 8,
      "outputs": [
        {
          "output_type": "stream",
          "name": "stdout",
          "text": [
            "[14:52:08] WARNING: /workspace/src/objective/regression_obj.cu:152: reg:linear is now deprecated in favor of reg:squarederror.\n"
          ]
        }
      ]
    },
    {
      "cell_type": "markdown",
      "source": [
        "Hacemos las mismas predicciones"
      ],
      "metadata": {
        "id": "fc7-CGJJzqSe"
      }
    },
    {
      "cell_type": "code",
      "source": [
        "model2.predict(X_test)"
      ],
      "metadata": {
        "colab": {
          "base_uri": "https://localhost:8080/"
        },
        "id": "sqFdawIhzOi9",
        "outputId": "ca1b3bae-336f-470c-f2e7-fe6f9bbcd376"
      },
      "execution_count": 9,
      "outputs": [
        {
          "output_type": "execute_result",
          "data": {
            "text/plain": [
              "array([0.30482632, 0.68581825, 0.3492648 , 0.21153465, 0.18753538,\n",
              "       0.2381658 , 0.78156525, 0.25456095, 0.4856146 , 0.36348802,\n",
              "       0.4578833 , 0.67292655, 0.19582775, 0.21153465, 0.72597134,\n",
              "       0.34191293, 0.54114753, 0.24365622, 0.78156525, 0.28100663,\n",
              "       0.37228212, 0.6716695 , 0.19582775, 0.19582775, 0.3336206 ,\n",
              "       0.76190776, 0.59330755, 0.670482  , 0.35949326, 0.21153465,\n",
              "       0.6785809 , 0.76190776, 0.32912403, 0.36398977, 0.7633357 ,\n",
              "       0.26285326, 0.4578833 , 0.41854298, 0.7633357 , 0.72597134,\n",
              "       0.19582775, 0.7633357 , 0.3470223 , 0.59571755, 0.33797783,\n",
              "       0.22046176, 0.33331144, 0.37625784, 0.55486965, 0.29646245,\n",
              "       0.7430132 , 0.6882702 , 0.5190207 , 0.7801373 , 0.37371004,\n",
              "       0.6804124 , 0.19582775, 0.7430132 , 0.27289534, 0.7633357 ,\n",
              "       0.2967136 , 0.7801373 , 0.7654386 , 0.5518449 , 0.76190776,\n",
              "       0.58841735, 0.2381658 , 0.2508309 , 0.37033355, 0.4144222 ,\n",
              "       0.3786259 , 0.78156525, 0.6313452 , 0.7801373 , 0.21328712,\n",
              "       0.21153465], dtype=float32)"
            ]
          },
          "metadata": {},
          "execution_count": 9
        }
      ]
    },
    {
      "cell_type": "markdown",
      "source": [
        "Descarguemos manualmente el modelo para usarlo en R"
      ],
      "metadata": {
        "id": "_Oro_VQgz3O8"
      }
    }
  ]
}