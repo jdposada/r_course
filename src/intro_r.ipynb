{
  "nbformat": 4,
  "nbformat_minor": 0,
  "metadata": {
    "colab": {
      "name": "intro_r.ipynb",
      "provenance": [],
      "authorship_tag": "ABX9TyNXZ/rNy7hDJnLsmi8xzvlc",
      "include_colab_link": true
    },
    "kernelspec": {
      "name": "ir",
      "display_name": "R"
    },
    "language_info": {
      "name": "R"
    }
  },
  "cells": [
    {
      "cell_type": "markdown",
      "metadata": {
        "id": "view-in-github",
        "colab_type": "text"
      },
      "source": [
        "<a href=\"https://colab.research.google.com/github/jdposada/r_course/blob/main/src/intro_r.ipynb\" target=\"_parent\"><img src=\"https://colab.research.google.com/assets/colab-badge.svg\" alt=\"Open In Colab\"/></a>"
      ]
    },
    {
      "cell_type": "markdown",
      "source": [
        "# Introduccion a R\n",
        "\n",
        "- Como leemos datos en R\n",
        "- Dataframes en R\n",
        "\n",
        "# Heading\n",
        "## Subheading\n",
        "### sub-sub-heading\n",
        "#### otro mas\n",
        "\n",
        "- primer nivel\n",
        "  - segundo nivel\n",
        "    - tercer nivel\n",
        "\n",
        "\n",
        "\n",
        "1. Elemento de lista\n",
        "2. Elemento de lista\n",
        "\n",
        "\n",
        "\n",
        "\n"
      ],
      "metadata": {
        "id": "ZBThTGW4UADI"
      }
    },
    {
      "cell_type": "markdown",
      "source": [
        "escribo algo"
      ],
      "metadata": {
        "id": "sbKSCOj5oDz4"
      }
    },
    {
      "cell_type": "markdown",
      "source": [
        "## Instalacion de paquetes\n",
        "\n",
        "Nota: el punto no es un caracter reservado en R\n",
        "\n",
        "`Alt + Enter` ejecuta la celda y crea una celda nueva\n",
        "\n",
        "`CTR + Enter` ejecuta la celda **sin** crear una celda nueva"
      ],
      "metadata": {
        "id": "jfD1K5HBUvIk"
      }
    },
    {
      "cell_type": "code",
      "source": [
        "# Esto es un comentario en R\n",
        "install.packages(\"tidyverse\")"
      ],
      "metadata": {
        "id": "qwUOvvGtUxSC"
      },
      "execution_count": null,
      "outputs": []
    },
    {
      "cell_type": "markdown",
      "source": [
        "## Cargar un paquete"
      ],
      "metadata": {
        "id": "1BUftAlPVEp0"
      }
    },
    {
      "cell_type": "code",
      "source": [
        "library(tidyverse)"
      ],
      "metadata": {
        "id": "qSW2iay5VI4n"
      },
      "execution_count": null,
      "outputs": []
    },
    {
      "cell_type": "code",
      "source": [
        "library(datasets)"
      ],
      "metadata": {
        "id": "FmoRQCBIVLgf"
      },
      "execution_count": null,
      "outputs": []
    },
    {
      "cell_type": "code",
      "source": [
        "iris"
      ],
      "metadata": {
        "id": "lnEUnYtKVSK8"
      },
      "execution_count": null,
      "outputs": []
    },
    {
      "cell_type": "markdown",
      "source": [
        "## Como sabemos un poco mas acerca de un paquete?"
      ],
      "metadata": {
        "id": "hLEoi1Y1V1r2"
      }
    },
    {
      "cell_type": "code",
      "source": [
        "library(help = \"datasets\")"
      ],
      "metadata": {
        "id": "YKUgeklwVidb"
      },
      "execution_count": null,
      "outputs": []
    },
    {
      "cell_type": "markdown",
      "source": [
        "## Como sabemos un poco mas acerca de los datos?"
      ],
      "metadata": {
        "id": "n3b8lpDgV7vI"
      }
    },
    {
      "cell_type": "code",
      "source": [
        "str(iris)"
      ],
      "metadata": {
        "id": "k4F07NlOVmvD"
      },
      "execution_count": null,
      "outputs": []
    },
    {
      "cell_type": "markdown",
      "source": [
        "## Hay una mejor forma? Si.. Tidyverse"
      ],
      "metadata": {
        "id": "gGds0G4jWEoU"
      }
    },
    {
      "cell_type": "code",
      "source": [
        "head(iris, 3)"
      ],
      "metadata": {
        "id": "h7mXGUu_WHZf"
      },
      "execution_count": null,
      "outputs": []
    },
    {
      "cell_type": "code",
      "source": [
        "tail(iris)"
      ],
      "metadata": {
        "id": "RZhHBCc-WNhb"
      },
      "execution_count": null,
      "outputs": []
    },
    {
      "cell_type": "code",
      "source": [
        "as_tibble(iris)"
      ],
      "metadata": {
        "id": "3jelgmYjWO5J"
      },
      "execution_count": null,
      "outputs": []
    },
    {
      "cell_type": "code",
      "source": [
        "names(iris)"
      ],
      "metadata": {
        "id": "_IQ_4nbQXQgY"
      },
      "execution_count": null,
      "outputs": []
    },
    {
      "cell_type": "code",
      "source": [
        "ncol(iris)"
      ],
      "metadata": {
        "id": "T6MR6W7vXYKJ"
      },
      "execution_count": null,
      "outputs": []
    },
    {
      "cell_type": "code",
      "source": [
        "length(iris)"
      ],
      "metadata": {
        "id": "qhyVS7HpXZT2"
      },
      "execution_count": null,
      "outputs": []
    },
    {
      "cell_type": "code",
      "source": [
        "dim(iris)"
      ],
      "metadata": {
        "id": "-WIrvugzXacY"
      },
      "execution_count": null,
      "outputs": []
    },
    {
      "cell_type": "code",
      "source": [
        "nrow(iris)"
      ],
      "metadata": {
        "id": "QDy9xE6oXbh2"
      },
      "execution_count": null,
      "outputs": []
    },
    {
      "cell_type": "markdown",
      "source": [
        "## Como encontrar la ayuda de un comando en particular?"
      ],
      "metadata": {
        "id": "h_RhrR1J3Z3g"
      }
    },
    {
      "cell_type": "code",
      "source": [
        "??nrow"
      ],
      "metadata": {
        "id": "MDDWyjgv3SXW"
      },
      "execution_count": null,
      "outputs": []
    },
    {
      "cell_type": "markdown",
      "source": [
        "## Como tener un resumen rapido de los datos"
      ],
      "metadata": {
        "id": "nFj2OM173gYz"
      }
    },
    {
      "cell_type": "code",
      "source": [
        "summary(iris)"
      ],
      "metadata": {
        "id": "JRfowHGcXcvS"
      },
      "execution_count": null,
      "outputs": []
    },
    {
      "cell_type": "markdown",
      "source": [
        "Los nombres escritos aqui deben ser exactamente iguales a los que aparecen como nombre de las variables y son case sensitive"
      ],
      "metadata": {
        "id": "9T9VeEem5WvZ"
      }
    },
    {
      "cell_type": "code",
      "source": [
        "plot(Sepal.Length ~ Sepal.Width, iris)"
      ],
      "metadata": {
        "id": "9qIqqfNKXeCA"
      },
      "execution_count": null,
      "outputs": []
    },
    {
      "cell_type": "code",
      "source": [
        "plot(Sepal.Length ~ Petal.Length , iris)"
      ],
      "metadata": {
        "id": "-fCaF-rNX2PR"
      },
      "execution_count": null,
      "outputs": []
    },
    {
      "cell_type": "markdown",
      "source": [
        "## Revisemos que hay dentro del dataframe"
      ],
      "metadata": {
        "id": "dalRyocvYFPE"
      }
    },
    {
      "cell_type": "code",
      "source": [
        "head(iris$Petal.Length)"
      ],
      "metadata": {
        "id": "bqHa2YT6YIET"
      },
      "execution_count": null,
      "outputs": []
    },
    {
      "cell_type": "code",
      "source": [
        "summary(iris$Petal.Length)"
      ],
      "metadata": {
        "id": "npglGWVFYK66"
      },
      "execution_count": null,
      "outputs": []
    },
    {
      "cell_type": "code",
      "source": [
        "hist(iris$Petal.Length)"
      ],
      "metadata": {
        "id": "ewnYOH_iYOcy"
      },
      "execution_count": null,
      "outputs": []
    },
    {
      "cell_type": "markdown",
      "source": [
        "## Como podemos hacer conteos simples con las variables?"
      ],
      "metadata": {
        "id": "0kxfPgT0YmdI"
      }
    },
    {
      "cell_type": "code",
      "source": [
        "table(iris$Species)"
      ],
      "metadata": {
        "id": "z6j4UpFQYSiw"
      },
      "execution_count": null,
      "outputs": []
    },
    {
      "cell_type": "markdown",
      "source": [
        "## Como podemos saber mas acerca de una variable en particular?"
      ],
      "metadata": {
        "id": "PUQXCli6Yqzn"
      }
    },
    {
      "cell_type": "code",
      "source": [
        "class(iris$Species)"
      ],
      "metadata": {
        "id": "I4qx1JjSYdj2"
      },
      "execution_count": null,
      "outputs": []
    },
    {
      "cell_type": "code",
      "source": [
        "levels(iris$Species)"
      ],
      "metadata": {
        "id": "9t9YeWMMYkyM"
      },
      "execution_count": null,
      "outputs": []
    },
    {
      "cell_type": "code",
      "source": [
        "nlevels(iris$Species)"
      ],
      "metadata": {
        "id": "ZQwiymPoYxDn"
      },
      "execution_count": null,
      "outputs": []
    },
    {
      "cell_type": "code",
      "source": [
        "str(iris$Species)"
      ],
      "metadata": {
        "id": "1xdRX73RYz5V"
      },
      "execution_count": null,
      "outputs": []
    },
    {
      "cell_type": "markdown",
      "source": [
        "## Como podemos hacer un graficos de barras simple"
      ],
      "metadata": {
        "id": "WdAzINXaY6XH"
      }
    },
    {
      "cell_type": "code",
      "source": [
        "barplot(table(iris$Species))"
      ],
      "metadata": {
        "id": "D67Z6usAY8uW"
      },
      "execution_count": null,
      "outputs": []
    }
  ]
}